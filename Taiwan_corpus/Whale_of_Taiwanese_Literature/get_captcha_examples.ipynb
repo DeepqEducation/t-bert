{
 "cells": [
  {
   "cell_type": "code",
   "execution_count": 1,
   "metadata": {},
   "outputs": [],
   "source": [
    "import time\n",
    "import os\n",
    "from pprint import pprint\n",
    "from selenium import webdriver \n",
    "from selenium.webdriver.chrome.options import Options\n",
    "import subprocess\n",
    "from PIL import Image \n"
   ]
  },
  {
   "cell_type": "code",
   "execution_count": 2,
   "metadata": {},
   "outputs": [],
   "source": [
    "chrome_options = Options()\n",
    "chrome_options.add_argument('--headless')\n",
    "prefs = {'download.default_directory' : './PDF'}\n",
    "chrome_options.add_experimental_option('prefs', prefs)\n",
    "\n",
    "driver = webdriver.Chrome('./chromedriver', options=chrome_options)\n",
    "# driver = webdriver.Chrome('./chromedriver')\n",
    "\n",
    "base_url = \"https://www.airitilibrary.com/Publication/alPublicationJournal?PublicationID=P20121018003\"\n",
    "urls = []\n",
    "for year in range(2010, 2021):\n",
    "    urls.append(base_url+ f\"&IssueYear={year}\")"
   ]
  },
  {
   "cell_type": "code",
   "execution_count": 3,
   "metadata": {},
   "outputs": [],
   "source": [
    "\n",
    "def solve_captcha(driver, sample_id):\n",
    "    img_element = driver.find_element_by_xpath(\"//img[@alt='Captcha Image']\")\n",
    "    img_element.screenshot(f\"train_{sample_id}.png\")\n",
    "    p = subprocess.Popen([\"display\", f\"train_{sample_id}.png\"])\n",
    "    time.sleep(2)\n",
    "    p.kill()\n",
    "    \n",
    "    answer = input(\"type in your answer: \")\n",
    "    with open(f\"label_{sample_id}\", \"w\") as f:\n",
    "        f.write(answer)\n",
    "\n",
    "    refresh_btn = driver.find_element_by_xpath(\"/html/body/div[9]/div[2]/p/a\")\n",
    "    refresh_btn.click()"
   ]
  },
  {
   "cell_type": "code",
   "execution_count": null,
   "metadata": {},
   "outputs": [],
   "source": [
    "driver.get(urls[0])\n",
    "sample_id = 0\n",
    "while os.path.exists(f\"train_{sample_id}.png\"):\n",
    "    sample_id += 1\n",
    "\n",
    "print(f\"start sample id: {sample_id}\")\n",
    "\n",
    "while True:\n",
    "    download_btns = driver.find_elements_by_class_name(\"toRight\")\n",
    "\n",
    "    for download_btn in download_btns:\n",
    "        print(f\"sample id: {sample_id}\")\n",
    "        download_btn.click()\n",
    "\n",
    "        while True:\n",
    "            solve_captcha(driver, sample_id)\n",
    "            sample_id += 1\n",
    "        time.sleep(2)\n",
    "        \n",
    "\n",
    "    next_page_btn = driver.find_elements_by_css_selector(\".pageNumber a\")[-1]\n",
    "    next_page_btn.click()\n",
    "    time.sleep(2)\n",
    "\n"
   ]
  },
  {
   "cell_type": "code",
   "execution_count": 10,
   "metadata": {},
   "outputs": [],
   "source": []
  },
  {
   "cell_type": "code",
   "execution_count": null,
   "metadata": {},
   "outputs": [],
   "source": []
  }
 ],
 "metadata": {
  "kernelspec": {
   "display_name": "Python 3",
   "language": "python",
   "name": "python3"
  },
  "language_info": {
   "codemirror_mode": {
    "name": "ipython",
    "version": 3
   },
   "file_extension": ".py",
   "mimetype": "text/x-python",
   "name": "python",
   "nbconvert_exporter": "python",
   "pygments_lexer": "ipython3",
   "version": "3.7.7"
  }
 },
 "nbformat": 4,
 "nbformat_minor": 4
}
