{
 "cells": [
  {
   "cell_type": "code",
   "execution_count": 1,
   "metadata": {},
   "outputs": [],
   "source": [
    "import cv2\n",
    "import matplotlib.pyplot as plt\n",
    "import numpy as np\n"
   ]
  },
  {
   "cell_type": "code",
   "execution_count": 4,
   "metadata": {},
   "outputs": [],
   "source": [
    "sample_img = []\n",
    "for i in range(10):\n",
    "    sample_img.append(cv2.imread(f\"standard_sample/sample_{i}.png\"))"
   ]
  },
  {
   "cell_type": "code",
   "execution_count": 7,
   "metadata": {},
   "outputs": [
    {
     "name": "stdout",
     "output_type": "stream",
     "text": [
      "[1, 7, 1, 6, 7]\n"
     ]
    },
    {
     "data": {
      "image/png": "[encoded data removed]",
      "text/plain": [
       "<Figure size 432x288 with 5 Axes>"
      ]
     },
     "metadata": {
      "needs_background": "light"
     },
     "output_type": "display_data"
    }
   ],
   "source": [
    "img = cv2.imread(\"captcha.png\")\n",
    "x, y = 5, 6\n",
    "w, h = 12, 16\n",
    "\n",
    "crop_imgs = []\n",
    "for i in range(5):\n",
    "    crop_imgs.append(img[y:y+h, x+12*i:x+w+12*i])\n",
    "    \n",
    "fig, axes = plt.subplots(1, 5)\n",
    "\n",
    "for num_img, ax in zip(crop_imgs, axes):\n",
    "    ax.imshow(num_img)\n",
    "\n",
    "ans = []\n",
    "for num_img in crop_imgs:\n",
    "    distance = []\n",
    "    for i in range(10):\n",
    "        distance.append(np.sum(num_img != sample_img[i]))\n",
    "#     print(distance)\n",
    "    ans.append(np.argmin(distance))\n",
    "print(ans)\n"
   ]
  },
  {
   "cell_type": "code",
   "execution_count": 9,
   "metadata": {},
   "outputs": [],
   "source": [
    "# img = cv2.imread(\"standard_sample/train_3.png\")\n",
    "# img = cv2.cvtColor(img, cv2.COLOR_BGR2RGB)\n",
    "# x = 5\n",
    "# y = 6\n",
    "# w = 12\n",
    "# h = 16\n",
    "\n",
    "# crop_img1 = img[y:y+h, x:x+w]\n",
    "# crop_img2 = img[y:y+h, x+12:x+w+12]\n",
    "# crop_img3 = img[y:y+h, x+24:x+w+24]\n",
    "# crop_img4 = img[y:y+h, x+36:x+w+36]\n",
    "# crop_img5 = img[y:y+h, x+48:x+w+48]\n",
    "\n",
    "# # 裁切圖片\n",
    "# plt.subplot(151)\n",
    "# plt.imshow(crop_img1)\n",
    "# plt.subplot(152)\n",
    "# plt.imshow(crop_img2)\n",
    "# plt.subplot(153)\n",
    "# plt.imshow(crop_img3)\n",
    "# plt.subplot(154)\n",
    "# plt.imshow(crop_img4)\n",
    "# plt.subplot(155)\n",
    "# plt.imshow(crop_img5)\n",
    "# plt.show()\n"
   ]
  },
  {
   "cell_type": "code",
   "execution_count": 1,
   "metadata": {},
   "outputs": [],
   "source": [
    "# import numpy as np\n",
    "# a = np.sum(crop_img1 != crop_img5)\n",
    "# b = np.sum(crop_img4 != crop_img5)\n",
    "# a,b "
   ]
  },
  {
   "cell_type": "code",
   "execution_count": null,
   "metadata": {},
   "outputs": [],
   "source": []
  }
 ],
 "metadata": {
  "kernelspec": {
   "display_name": "Python 3",
   "language": "python",
   "name": "python3"
  },
  "language_info": {
   "codemirror_mode": {
    "name": "ipython",
    "version": 3
   },
   "file_extension": ".py",
   "mimetype": "text/x-python",
   "name": "python",
   "nbconvert_exporter": "python",
   "pygments_lexer": "ipython3",
   "version": "3.7.7"
  }
 },
 "nbformat": 4,
 "nbformat_minor": 4
}
